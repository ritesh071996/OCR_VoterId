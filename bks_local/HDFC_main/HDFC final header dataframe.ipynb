{
 "cells": [
  {
   "cell_type": "markdown",
   "metadata": {},
   "source": [
    "# HDFC Header"
   ]
  },
  {
   "cell_type": "code",
   "execution_count": 2,
   "metadata": {},
   "outputs": [],
   "source": [
    "import PyPDF2\n",
    "import textract\n",
    "from nltk.tokenize import word_tokenize\n",
    "from nltk.corpus import stopwords\n",
    "import re\n",
    "import pandas as pd"
   ]
  },
  {
   "cell_type": "code",
   "execution_count": 6,
   "metadata": {
    "scrolled": true
   },
   "outputs": [
    {
     "name": "stdout",
     "output_type": "stream",
     "text": [
      "  Customer Information                                     Data_Extracted\n",
      "0         Account Name                                  MR.RAJKUMARSHARMA\n",
      "1        Accoun Number                                     50100097979355\n",
      "2            IFSC Code                                        HDFC0004131\n",
      "3          Branch Name                                  SECTOR31FARIDABAD\n",
      "4              Address   MR.RAJKUMARSHARMA HOUSENO18/59 LAKHPATCOLONYP...\n",
      "5            MICR Code                                          110240381\n",
      "6           CIF Number                                                   \n"
     ]
    }
   ],
   "source": [
    "def HDFC_bank_header(path):\n",
    "    file = path\n",
    "    pdffileobj=open(file,'rb')\n",
    "    pdfReader=PyPDF2.PdfFileReader(pdffileobj)\n",
    "    num_pages=pdfReader.numPages\n",
    "    text= \"\"\n",
    "    count=0\n",
    "    while count < num_pages:\n",
    "        pageObj=pdfReader.getPage(count)\n",
    "        count+=1\n",
    "        text+=pageObj.extractText()\n",
    "    if text!=\"\":\n",
    "    \n",
    "        text=text\n",
    "    else:\n",
    "        text=textract.process(fileurl,method='tesseract',language='eng')\n",
    "#     print(text)\n",
    "#     str.index(text,('IFSC','MICR'))\n",
    "    ifsc=re.findall(r\"RTGS/NEFTIFSC\\n[:A-Z\\d-]+\",text)\n",
    "#     print(ifsc)\n",
    "    ifs=ifsc[0]\n",
    "#     print(ifs)\n",
    "    ifsc_code=ifs[15:26]\n",
    "#     print(ifsc_code)\n",
    "    name=re.findall(r\"PageNo.:1\\n[A-Za-z/.,]+\",text)\n",
    "#     print(name)\n",
    "    nam=name[0]\n",
    "    cusname=nam[10:]\n",
    "#     print(\"nam\",cusname)\n",
    "# #     na=nam[5:]\n",
    "# # print(na)\n",
    "    accno=re.findall(r\"AccountNo:[\\d-]+\",text)\n",
    "#     print(accno)\n",
    "    acc=accno[0]\n",
    "    account_no=acc[10:]\n",
    "# #     print(\"ACCOUNT NUMBER\",account_no)\n",
    "\n",
    "    an=re.findall(r\"AccountBranch:[A-Z/.\\d-]+\",text)\n",
    "#     print(\"AN\",an)\n",
    "    ana=an[0]\n",
    "# #     print(\"ANA\",ana)\n",
    "    ana1=ana[14:]\n",
    "# #     \n",
    "    micr=re.findall(r\"MICR:[\\d-]+\",text)\n",
    "#     print(\"MICR\",micr)\n",
    "    micr_code=micr[0]\n",
    "    mic_co=micr_code[5:]\n",
    "#     print(\"Micr_co\",mic_co)\n",
    "    cusaddress=re.findall(r\"PageNo.:1\\n[A-Za-z/.,\\n\\d-]+\",text)\n",
    "#     print(\"CUS\",cusaddress)\n",
    "    cusadd=cusaddress[0]\n",
    "#     print(\"RO\",cusadd)\n",
    "    customer_address=cusadd[9:]\n",
    "    custaddre=str.replace(cusadd,'\\n',' ')\n",
    "    custom=custaddre[9:]\n",
    "#     print('Ca',custaddre)\n",
    "#     print(\"CUSTOM\",custom)\n",
    "#\n",
    "    cif_code=re.findall(r\"CIF Code:[\\d-]+\",text)\n",
    "    ci=len(cif_code)\n",
    "    if ci<=0:\n",
    "        cif=\"\"\n",
    "    else:\n",
    "        cif=cif_cod[8:]\n",
    "    dataset = pd.DataFrame([['Account Name',cusname]],columns=[\"Customer Information\",\"Data_Extracted\"])\n",
    "    if account_no!=\"\":dataset.loc[len(dataset)]=[\"Accoun Number\",account_no]\n",
    "    if ifsc!= \"\":dataset.loc[len(dataset)]=[\"IFSC Code\",ifsc_code]\n",
    "    if ana1!=\"\":dataset.loc[len(dataset)]=[\"Branch Name\",ana1]\n",
    "    if customer_address!=\"\":dataset.loc[len(dataset)]=[\"Address\",custom]\n",
    "    if mic_co!=\"\":dataset.loc[len(dataset)]=[\"MICR Code\",mic_co]\n",
    "    if cif_code!=\"\":dataset.loc[len(dataset)]=[\"CIF Number\",cif]\n",
    "    print(dataset)\n",
    "path=HDFC_bank_header(r'C:\\Users\\rites\\Desktop\\mudracircle\\bks_raw\\Parsing_testing\\HDFC\\files\\hdfc06.pdf')"
   ]
  },
  {
   "cell_type": "code",
   "execution_count": null,
   "metadata": {},
   "outputs": [],
   "source": []
  }
 ],
 "metadata": {
  "kernelspec": {
   "display_name": "Python 3",
   "language": "python",
   "name": "python3"
  },
  "language_info": {
   "codemirror_mode": {
    "name": "ipython",
    "version": 3
   },
   "file_extension": ".py",
   "mimetype": "text/x-python",
   "name": "python",
   "nbconvert_exporter": "python",
   "pygments_lexer": "ipython3",
   "version": "3.6.8"
  }
 },
 "nbformat": 4,
 "nbformat_minor": 4
}
