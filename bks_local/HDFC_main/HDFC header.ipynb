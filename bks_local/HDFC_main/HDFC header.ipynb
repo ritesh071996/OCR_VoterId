{
 "cells": [
  {
   "cell_type": "markdown",
   "metadata": {},
   "source": [
    "# Hdfc header dataframe"
   ]
  },
  {
   "cell_type": "code",
   "execution_count": 1,
   "metadata": {},
   "outputs": [],
   "source": [
    "import pandas as pd\n",
    "from nltk.tokenize import word_tokenize\n",
    "import re\n",
    "from pdfminer3.layout import LAParams, LTTextBox\n",
    "from pdfminer3.pdfpage import PDFPage\n",
    "from pdfminer3.pdfinterp import PDFResourceManager\n",
    "from pdfminer3.pdfinterp import PDFPageInterpreter\n",
    "from pdfminer3.converter import PDFPageAggregator\n",
    "from pdfminer3.converter import TextConverter\n",
    "import io"
   ]
  },
  {
   "cell_type": "code",
   "execution_count": 2,
   "metadata": {},
   "outputs": [
    {
     "name": "stdout",
     "output_type": "stream",
     "text": [
      "   Account Number         IFSC  Bank\n",
      "0  50200007532789  HDFC0001564  HDFC\n"
     ]
    }
   ],
   "source": [
    "def hdfc_header(pdf):\n",
    "    resource_manager = PDFResourceManager()\n",
    "    fake_file_handle = io.StringIO()\n",
    "    converter = TextConverter(resource_manager, fake_file_handle)\n",
    "    page_interpreter = PDFPageInterpreter(resource_manager, converter)\n",
    "\n",
    "    with open(pdf, 'rb') as fh:\n",
    "\n",
    "        for page in PDFPage.get_pages(fh,\n",
    "                                  caching=True,maxpages=0,\n",
    "                                  check_extractable=False):\n",
    "            page_interpreter.process_page(page)\n",
    "\n",
    "        text = fake_file_handle.getvalue()\n",
    "    \n",
    "# close open handles\n",
    "    converter.close()\n",
    "    fake_file_handle.close()\n",
    "\n",
    "#     print(text)\n",
    "    m = re.findall(r\"IFSC:[A-Z\\d-][^M]+\", text)\n",
    "    t= re.findall(r\"AccountNo:[\\d-]+\", text)\n",
    "    \n",
    "    if m:\n",
    "#         print(m[0])\n",
    "        a=m[0]\n",
    "        b=a\n",
    "        c=a[9:28]\n",
    "        \n",
    "#         print(b)\n",
    "    if t:\n",
    "#         print(t[0])\n",
    "        account_number=t[0]\n",
    "    \n",
    "        e=account_number[10:24]\n",
    "#         print(e)\n",
    "\n",
    "#   for ifsc\n",
    "    dataset1=pd.DataFrame(columns=['Account Number','IFSC','Bank'])    \n",
    "    for i, line in enumerate(b.splitlines()):\n",
    "        if i < 0:\n",
    "            continue\n",
    "        word_list = word_tokenize(line)\n",
    "        \n",
    "        if len(word_list) > 1 and any(i.isdigit() for i in word_list[-1]):\n",
    "            ifsc_word=word_list[-1]\n",
    "            if ifsc_word[-1] =='e':\n",
    "                ifsc_words = item_words[:-1]\n",
    "            ifsc=''.join(ifsc_word)\n",
    "#             print(ifsc)\n",
    "            new_ifsc=ifsc[4:23]\n",
    "            bank=ifsc[0:4]\n",
    "#             print(new_ifsc)\n",
    "        dataset1 = dataset1.append(pd.DataFrame([[e,ifsc,bank]], columns =dataset1.columns))\n",
    "\n",
    "    print(dataset1)\n",
    "pdf= hdfc_header(r'C:\\Users\\rites\\Desktop\\mudracircle\\bks_raw\\Parsing_testing\\HDFC\\HDFC\\hdfc01.pdf')"
   ]
  },
  {
   "cell_type": "code",
   "execution_count": null,
   "metadata": {},
   "outputs": [],
   "source": []
  }
 ],
 "metadata": {
  "kernelspec": {
   "display_name": "Python 3",
   "language": "python",
   "name": "python3"
  },
  "language_info": {
   "codemirror_mode": {
    "name": "ipython",
    "version": 3
   },
   "file_extension": ".py",
   "mimetype": "text/x-python",
   "name": "python",
   "nbconvert_exporter": "python",
   "pygments_lexer": "ipython3",
   "version": "3.6.8"
  }
 },
 "nbformat": 4,
 "nbformat_minor": 2
}
