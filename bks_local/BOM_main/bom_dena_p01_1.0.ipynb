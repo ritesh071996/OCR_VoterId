{
 "cells": [
  {
   "cell_type": "code",
   "execution_count": 1,
   "metadata": {},
   "outputs": [],
   "source": [
    "import pandas as pd\n",
    "import numpy as np\n",
    "import re\n",
    "import math\n",
    "import tabula\n",
    "import camelot\n",
    "import pdfminer\n",
    "from pdfminer.pdfinterp import PDFResourceManager, PDFPageInterpreter\n",
    "from pdfminer.converter import TextConverter\n",
    "from pdfminer.layout import LAParams\n",
    "from pdfminer.pdfpage import PDFPage\n",
    "try:\n",
    "    from cStringIO import StringIO\n",
    "except ImportError:\n",
    "    from io import StringIO \n",
    "import matplotlib.pyplot as plt "
   ]
  },
  {
   "cell_type": "code",
   "execution_count": 8,
   "metadata": {},
   "outputs": [
    {
     "name": "stdout",
     "output_type": "stream",
     "text": [
      "[0]\n",
      "1\n",
      "Index(['Date', 'Type', 'Particulars', 'Cheque/Refer\\rence No', 'Debit',\n",
      "       'Credit', 'Balance', 'Channel'],\n",
      "      dtype='object')\n",
      "******************\n",
      "0      12/03/2018\n",
      "1      12/03/2018\n",
      "2      13/03/2018\n",
      "3      14/03/2018\n",
      "4      14/03/2018\n",
      "          ...    \n",
      "773    08/03/2019\n",
      "774    08/03/2019\n",
      "775    09/03/2019\n",
      "776    09/03/2019\n",
      "777    10/03/2019\n",
      "Name: Xns Date, Length: 778, dtype: object\n",
      "Parsed\n"
     ]
    }
   ],
   "source": [
    "def abc(a):\n",
    "    if type(a) == str:\n",
    "        if len(a.split(' '))==2:\n",
    "            z=a.split(' ')[1]\n",
    "        else:\n",
    "            z=a.split(' ')[0]\n",
    "    else:\n",
    "        z=a\n",
    "    return z\n",
    "\n",
    "def isnan(value):\n",
    "    try:\n",
    "        return math.isnan(float(value))\n",
    "    except:\n",
    "        return False\n",
    "\n",
    "def icici_p1(f):\n",
    "    tables=tabula.read_pdf(f,\n",
    "                              lattice=True,\n",
    "                              pages=\"all\",\n",
    "                              silent=True,\n",
    "                              multiple_tables=True,\n",
    "                              pandas_options={'header':None})\n",
    "    df = pd.DataFrame()\n",
    "    df = pd.concat([c for c in tables]).drop_duplicates()\n",
    "    return df\n",
    "\n",
    "def icici_p1_process(df):\n",
    "    df = df.replace(r'^\\s*$', np.nan, regex=True)\n",
    "    df = df[ df.isnull().sum(axis=1) < df.shape[1]-2].reset_index(drop=True)\n",
    "\n",
    "    drop_idx=[c for c in df[df.apply(lambda row:row.astype(str).str.lower().str.contains('balance').any(),axis=1)==True].index if c in df[df.apply(lambda row:row.astype(str).str.lower().str.contains('date').any(),axis=1)==True].index]\n",
    "    print(drop_idx)\n",
    "    print(len(drop_idx))\n",
    "    if len(drop_idx)>1:\n",
    "        for i in drop_idx[1:]:\n",
    "            print(i)\n",
    "            df.drop(df.index[i],inplace=True)\n",
    "    \n",
    "    try:\n",
    "        idx=[c for c in df[df.apply(lambda row:row.astype(str).str.lower().str.contains('balance').any(),axis=1)==True].index if c in df[df.apply(lambda row:row.astype(str).str.lower().str.contains('date').any(),axis=1)==True].index][0]\n",
    "        df.columns=df.iloc[idx]; df=df.iloc[idx+1:,:]; df.reset_index(drop=True, inplace=True)\n",
    "    except:\n",
    "        try:\n",
    "            idx=[c for c in df[df.apply(lambda row:row.astype(str).str.lower().str.contains('balance').any(),axis=1)==True].index if c in df[df.apply(lambda row:row.astype(str).str.lower().str.contains('transaction').any(),axis=1)==True].index][0]\n",
    "            df.columns=df.iloc[idx]; df=df.iloc[idx+1:,:]; df.reset_index(drop=True, inplace=True)\n",
    "        except:\n",
    "            try:\n",
    "                idx=[ c for c in df[df.apply(lambda row: row.astype(str).str.lower().str.contains('date').any(), axis=1) ==True].index if c in df[df.apply(lambda row: row.astype(str).str.lower().str.contains('remarks').any(), axis=1) ==True].index ][0]\n",
    "                df.columns=df.iloc[idx] ; df=df.iloc[idx+1:,:] ; df.reset_index(drop=True,inplace=True)\n",
    "            except:\n",
    "                print(\"\\nICICI Column Headers Missing\"); pass\n",
    "    try:\n",
    "        idx2 = [c for c in df[df.apply(lambda row:row.astype(str).str.lower().str.contains('page total').any(),axis=1)==True].index][0]    \n",
    "        df.drop(df.index[idx2:], inplace=True)\n",
    "    except:pass\n",
    "\n",
    "    try:\n",
    "        idx2 = [c for c in df[df.apply(lambda row:row.astype(str).str.lower().str.contains('total transaction count').any(),axis=1)==True].index][0]    \n",
    "        df.drop(df.index[idx2:], inplace=True)\n",
    "    except:pass\n",
    "    \n",
    "    try:\n",
    "        idx2 = [c for c in df[df.apply(lambda row:row.astype(str).str.lower().str.contains('total amount').any(),axis=1)==True].index][0]    \n",
    "        df.drop(df.index[idx2:], inplace=True)\n",
    "    except:pass\n",
    "    \n",
    "    list1 = list(df.columns)\n",
    "    list2 = []\n",
    "    for i in list1:\n",
    "        if isnan(i) == False:\n",
    "            list2.append(i)\n",
    "    df = df.iloc[:,:len(list2)]        \n",
    "    df.columns = list2\n",
    "    print(df.columns)\n",
    "    \n",
    "    try:\n",
    "        df = df.loc[:, df.columns.notnull()]\n",
    "    except:pass\n",
    "\n",
    "    try:\n",
    "        dat=[c for c in df.columns if \"TRANSACTION DATE\" in str(c).upper() ][0]\n",
    "    except:\n",
    "        try:\n",
    "            dat=[c for c in df.columns if \"TXN DATE\" in str(c).upper() ][0]\n",
    "        except:\n",
    "            try:\n",
    "                dat=[c for c in df.columns if \"DATE\" in str(c).upper() ][0]\n",
    "            except:pass\n",
    "\n",
    "    try:\n",
    "        chq=[c for c in df.columns if \"CHQ\" in str(c).upper() ][0]\n",
    "    except:\n",
    "        try:\n",
    "            chq=[c for c in df.columns if \"CHEQUE\" in str(c).upper() ][0]\n",
    "        except:\n",
    "            try:\n",
    "                chq=[c for c in df.columns if \"CHEQ\" in str(c).upper() ][0]\n",
    "            except:pass\n",
    "\n",
    "    try:\n",
    "        narr=[c for c in df.columns if \"REMARKS\" in str(c).upper() ][0]\n",
    "    except:\n",
    "        try:\n",
    "            narr=[c for c in df.columns if \"PARTICULARS\" in str(c).upper() ][0]\n",
    "        except:\n",
    "            try:\n",
    "                narr=[c for c in df.columns if \"DESCRIPTION\" in str(c).upper() ][0]\n",
    "            except:\n",
    "                try:\n",
    "                    narr=[c for c in df.columns if \"DETAILS\" in str(c).upper() ][0]\n",
    "                except:\n",
    "                    try:\n",
    "                        narr=[c for c in df.columns if \"NARRATION\" in str(c).upper() ][0]\n",
    "                    except:pass\n",
    "\n",
    "    try:\n",
    "        bal=[c for c in df.columns if \"BALANCE\" in str(c).upper() ][0]\n",
    "        df[\"bal\"]=df[bal].apply( lambda x: abc(x) )\n",
    "    except: print(\"\\nBalance columns missing\") \n",
    "        \n",
    "    #print(df[\"bal\"])\n",
    "\n",
    "    try:\n",
    "        wdl=[c for c in df.columns if \"WITHDRAW\" in str(c).upper() ][0]\n",
    "    except:\n",
    "        try:\n",
    "            wdl=[c for c in df.columns if \"DEBIT\" in str(c).upper() ][0]\n",
    "        except: \n",
    "            try:\n",
    "                wdl=[c for c in df.columns if \"DR\" in str(c).upper() ][0]\n",
    "            except:pass\n",
    "\n",
    "    try:\n",
    "        dep=[c for c in df.columns if \"DEPOSIT\" in str(c).upper() ][0]\n",
    "    except:\n",
    "        try:\n",
    "            dep=[c for c in df.columns if \"CREDIT\" in str(c).upper() ][0]\n",
    "        except:\n",
    "            try:\n",
    "                dep=[c for c in df.columns if \"CR\" in str(c).upper() ][0]\n",
    "            except: pass\n",
    "\n",
    "    df[[wdl, dep]] = df[[wdl, dep]].replace({\"NA\":np.nan, \"-\":np.nan,\"0\":np.nan})\n",
    "\n",
    "    try:\n",
    "        auto=[c for c in df.columns if \"AUTOSWEEP\" in str(c).upper() ][0]\n",
    "        for j,i in enumerate(df[auto]):\n",
    "            if isnan(i) == False:\n",
    "                df[wdl][j] = df[auto][j]\n",
    "            else:\n",
    "                pass\n",
    "    except: pass\n",
    "\n",
    "    try:\n",
    "        rev=[c for c in df.columns if \"REVERSE\" in str(c).upper() ][0]\n",
    "        for j,i in enumerate(df[rev]):\n",
    "            if isnan(i) == False:\n",
    "                df[dep][j] = df[rev][j]\n",
    "            else:\n",
    "                pass\n",
    "    except: pass\n",
    "    \n",
    "    df[dep]=df[dep].apply( lambda x: x.split(' ')[0] if type(x) == str else x )\n",
    "    df[wdl]=df[wdl].apply( lambda x: x.split(' ')[0] if type(x) == str else x )\n",
    "    df[wdl]=df[wdl].astype(str).apply(lambda x: str(x).replace(\"\\r\",\"\").replace(\",\",\"\").replace(\"Cr\",\"\").replace(\"Dr\",\"\")).astype(float) *-1\n",
    "    df[dep]=df[dep].astype(str).apply(lambda x: str(x).replace(\"\\r\",\"\").replace(\",\",\"\").replace(\"Cr\",\"\").replace(\"Dr\",\"\")).astype(float)\n",
    "    df[bal]=df[bal].astype(str).apply(lambda x:str(x).replace(\"\\r\",\"\").replace(\",\",\"\").replace(\"Cr\",\"\").replace(\"Dr\",\"\").replace(\"CR\",\"\").replace(\"DR\",\"\")).astype(float)\n",
    "\n",
    "    try:\n",
    "        for i in df.index:\n",
    "            if df[\"bal\"][i] == \"Dr\":\n",
    "                df.loc[i,bal] = df.loc[i,bal]*-1\n",
    "            if df[\"bal\"][i] == \"DR\":\n",
    "                df.loc[i,bal] = df.loc[i,bal]*-1\n",
    "            else:\n",
    "                pass\n",
    "    except:pass\n",
    "\n",
    "    try:\n",
    "        df.drop(['bal'], axis=1, inplace=True)\n",
    "    except:pass\n",
    "\n",
    "    try:\n",
    "        df.drop([auto], axis=1, inplace=True)\n",
    "    except:pass\n",
    "    \n",
    "    try:\n",
    "        df.drop([rev], axis=1, inplace=True)\n",
    "    except:pass\n",
    "\n",
    "    print(\"******************\")\n",
    "    \n",
    "    df = df[[dat,chq,narr,wdl,dep,bal]]\n",
    "    df.columns = [\"Xns Date\",\"Cheque No\",\"Narration\",\"Debits\",\"Credits\",\"Balance\"]\n",
    "    \n",
    "    df[\"Xns Date\"] = df[\"Xns Date\"].str.replace('\\r', '')\n",
    "    print(df[\"Xns Date\"])\n",
    "        \n",
    "    df.to_csv(\"check_csv.csv\", index=0)\n",
    "\n",
    "# f = r\"C:\\Users\\MudraCircle\\Desktop\\bks_raw\\Parsing_testing\\SBI\\files\\sbi14.pdf\"\n",
    "# f = r'C:\\Users\\MudraCircle\\Desktop\\bks_raw\\Parsing_testing\\BOM\\files\\bom01.pdf'\n",
    "f = r'C:\\Users\\rites\\Desktop\\mudracircle\\bks_raw\\Parsing_testing\\BOM\\BOM_files\\pattern2\\bom01.pdf'\n",
    "\n",
    "try:\n",
    "    df = icici_p1(f) ; df = icici_p1_process(df)\n",
    "    print(\"Parsed\")\n",
    "except Exception as e:\n",
    "    print(\"Error:\",e)\n",
    "    print(\"Not Parsed\")\n",
    "    \n",
    "#8,11"
   ]
  },
  {
   "cell_type": "code",
   "execution_count": null,
   "metadata": {},
   "outputs": [],
   "source": []
  },
  {
   "cell_type": "code",
   "execution_count": null,
   "metadata": {},
   "outputs": [],
   "source": []
  },
  {
   "cell_type": "code",
   "execution_count": null,
   "metadata": {},
   "outputs": [],
   "source": []
  },
  {
   "cell_type": "code",
   "execution_count": null,
   "metadata": {},
   "outputs": [],
   "source": []
  },
  {
   "cell_type": "code",
   "execution_count": null,
   "metadata": {},
   "outputs": [],
   "source": []
  },
  {
   "cell_type": "code",
   "execution_count": null,
   "metadata": {},
   "outputs": [],
   "source": []
  },
  {
   "cell_type": "code",
   "execution_count": null,
   "metadata": {},
   "outputs": [],
   "source": []
  },
  {
   "cell_type": "code",
   "execution_count": null,
   "metadata": {},
   "outputs": [],
   "source": []
  },
  {
   "cell_type": "code",
   "execution_count": null,
   "metadata": {},
   "outputs": [],
   "source": []
  },
  {
   "cell_type": "code",
   "execution_count": 16,
   "metadata": {},
   "outputs": [
    {
     "name": "stdout",
     "output_type": "stream",
     "text": [
      "3\n"
     ]
    }
   ],
   "source": [
    "thisdict1 = {\n",
    "  \"brand\": \"Ford\",\n",
    "  \"model\": \"Mustang\",\n",
    "  \"year\": 1964\n",
    "}\n",
    "print(len(thisdict1))"
   ]
  },
  {
   "cell_type": "code",
   "execution_count": 17,
   "metadata": {},
   "outputs": [
    {
     "name": "stdout",
     "output_type": "stream",
     "text": [
      "Mustang\n"
     ]
    }
   ],
   "source": [
    "x = thisdict1[\"model\"]\n",
    "print(x)"
   ]
  },
  {
   "cell_type": "code",
   "execution_count": 18,
   "metadata": {},
   "outputs": [
    {
     "name": "stdout",
     "output_type": "stream",
     "text": [
      "Present\n"
     ]
    }
   ],
   "source": [
    "key = \"model\"\n",
    "if key in thisdict1.keys():\n",
    "    print(\"Present\")\n",
    "else:\n",
    "    print(\"Not Present\")"
   ]
  },
  {
   "cell_type": "code",
   "execution_count": 19,
   "metadata": {},
   "outputs": [
    {
     "name": "stdout",
     "output_type": "stream",
     "text": [
      "2\n"
     ]
    }
   ],
   "source": [
    "thisdict2 = {\n",
    "  \"brand\": \"Ford\",\n",
    "  \"year\": 1964\n",
    "}\n",
    "print(len(thisdict2))"
   ]
  },
  {
   "cell_type": "code",
   "execution_count": 20,
   "metadata": {},
   "outputs": [
    {
     "name": "stdout",
     "output_type": "stream",
     "text": [
      "Not Present\n"
     ]
    }
   ],
   "source": [
    "key = \"model\"\n",
    "if key in thisdict2.keys():\n",
    "    print(\"Present\")\n",
    "else:\n",
    "    print(\"Not Present\")"
   ]
  },
  {
   "cell_type": "code",
   "execution_count": null,
   "metadata": {},
   "outputs": [],
   "source": []
  }
 ],
 "metadata": {
  "kernelspec": {
   "display_name": "Python 3",
   "language": "python",
   "name": "python3"
  },
  "language_info": {
   "codemirror_mode": {
    "name": "ipython",
    "version": 3
   },
   "file_extension": ".py",
   "mimetype": "text/x-python",
   "name": "python",
   "nbconvert_exporter": "python",
   "pygments_lexer": "ipython3",
   "version": "3.6.8"
  }
 },
 "nbformat": 4,
 "nbformat_minor": 4
}
